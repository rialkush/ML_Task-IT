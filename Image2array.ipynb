{
  "nbformat": 4,
  "nbformat_minor": 0,
  "metadata": {
    "colab": {
      "name": "Image2array.ipynb",
      "provenance": [],
      "collapsed_sections": []
    },
    "kernelspec": {
      "name": "python3",
      "display_name": "Python 3"
    },
    "language_info": {
      "name": "python"
    },
    "accelerator": "GPU"
  },
  "cells": [
    {
      "cell_type": "code",
      "metadata": {
        "colab": {
          "base_uri": "https://localhost:8080/"
        },
        "id": "gUAqz18TH608",
        "outputId": "fe231be3-3cfe-4737-d0c2-516cd0b3b305"
      },
      "source": [
        "from google.colab import drive\n",
        "drive.mount('/content/gdrive')"
      ],
      "execution_count": null,
      "outputs": [
        {
          "output_type": "stream",
          "name": "stdout",
          "text": [
            "Mounted at /content/gdrive\n"
          ]
        }
      ]
    },
    {
      "cell_type": "code",
      "metadata": {
        "id": "z65pIVyDgcQb"
      },
      "source": [
        "import os\n",
        "os.environ['KAGGLE_CONFIG_DIR'] = \"/content/gdrive/My Drive/ML_Task\""
      ],
      "execution_count": null,
      "outputs": []
    },
    {
      "cell_type": "code",
      "metadata": {
        "colab": {
          "base_uri": "https://localhost:8080/"
        },
        "id": "7WOghHTHhGFZ",
        "outputId": "b32a2751-4f09-413d-e716-1be816adeb89"
      },
      "source": [
        "%cd /content/gdrive/My Drive/ML_Task"
      ],
      "execution_count": null,
      "outputs": [
        {
          "output_type": "stream",
          "name": "stdout",
          "text": [
            "/content/gdrive/My Drive/ML_Task\n"
          ]
        }
      ]
    },
    {
      "cell_type": "code",
      "metadata": {
        "id": "1XO3H5X9hGrZ"
      },
      "source": [
        "import os\n",
        "import time\n",
        "from tqdm.notebook import tqdm\n",
        "import warnings\n",
        "warnings.filterwarnings('ignore')\n",
        "# For array manipulation\n",
        "import numpy as np\n",
        "import pandas as pd\n",
        "import pandas.util.testing as tm\n",
        "# For visualization\n",
        "import matplotlib.pyplot as plt\n",
        "import matplotlib.ticker as ticker\n",
        "import seaborn as sns\n",
        "import cv2\n",
        "import imageio as io\n",
        "from pylab import *\n",
        "from sklearn.manifold import TSNE\n",
        "#For model performance\n",
        "from sklearn.metrics import pairwise_distances\n",
        "from sklearn.metrics.pairwise import cosine_similarity\n",
        "from sklearn.externals import joblib\n",
        "#For model training\n",
        "from sklearn.model_selection import train_test_split\n",
        "from sklearn.cluster import KMeans\n",
        "import tensorflow as tf\n",
        "from sklearn.neighbors import KNeighborsClassifier\n",
        "from tensorflow.keras.models import Sequential\n",
        "from keras.applications.vgg16 import preprocess_input\n",
        "from tensorflow.keras.layers import Conv2D, Activation, MaxPooling2D, UpSampling2D\n",
        "from tensorflow.keras.optimizers import Adam, Adagrad, RMSprop\n",
        "from tensorflow.keras.callbacks import EarlyStopping, ModelCheckpoint\n",
        "from keras import backend as K\n",
        "from keras.models import load_model\n",
        "from keras.preprocessing import image\n",
        "import imageio as io"
      ],
      "execution_count": null,
      "outputs": []
    },
    {
      "cell_type": "code",
      "metadata": {
        "id": "g7NhDd3HhQa8"
      },
      "source": [
        "train_df = pd.read_csv('training_data.csv')\n",
        "test_df = pd.read_csv('testing_data.csv')"
      ],
      "execution_count": null,
      "outputs": []
    },
    {
      "cell_type": "code",
      "metadata": {
        "id": "gSOnw4ZYgc1_"
      },
      "source": [
        "def imgurl2array(df):\n",
        "    image_array = []\n",
        "    for index, row in df.iterrows():\n",
        "        label = row['Image_Front']\n",
        "        img = io.imread(label)\n",
        "        img = cv2.cvtColor(img, cv2.COLOR_BGR2RGB)\n",
        "        img = cv2.resize(img, (224,224))\n",
        "        image_array.append(np.array(img))\n",
        "    image_array = np.array(image_array)\n",
        "    image_array = image_array.reshape(image_array.shape[0], 224, 224, 3) \n",
        "    image_array = image_array.astype('float32')\n",
        "    image_array /= 255 \n",
        "    return np.array(image_array)"
      ],
      "execution_count": null,
      "outputs": []
    },
    {
      "cell_type": "code",
      "metadata": {
        "colab": {
          "base_uri": "https://localhost:8080/"
        },
        "id": "zUVrKpuOgdUT",
        "outputId": "3d970e57-697d-4098-b830-ce312158029b"
      },
      "source": [
        "train_data = imgurl2array(train_df)\n",
        "print(\"Length of training dataset:\",train_data.shape)\n",
        "test_data = imgurl2array(test_df)\n",
        "print(\"Length of test dataset:\",test_data.shape)"
      ],
      "execution_count": null,
      "outputs": [
        {
          "output_type": "stream",
          "name": "stdout",
          "text": [
            "Length of training dataset: (4426, 224, 224, 3)\n",
            "Length of test dataset: (1107, 224, 224, 3)\n"
          ]
        }
      ]
    },
    {
      "cell_type": "code",
      "metadata": {
        "id": "AX4E9GToRbOH"
      },
      "source": [
        "np.save('train_data', train_data)\n",
        "np.save('test_data', test_data)"
      ],
      "execution_count": null,
      "outputs": []
    }
  ]
}