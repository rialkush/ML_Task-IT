{
  "nbformat": 4,
  "nbformat_minor": 0,
  "metadata": {
    "colab": {
      "name": "prediction.ipynb",
      "provenance": [],
      "collapsed_sections": []
    },
    "kernelspec": {
      "name": "python3",
      "display_name": "Python 3"
    },
    "language_info": {
      "name": "python"
    }
  },
  "cells": [
    {
      "cell_type": "code",
      "metadata": {
        "colab": {
          "base_uri": "https://localhost:8080/"
        },
        "id": "luZpQlmvIPZ_",
        "outputId": "7237f05d-cabc-477a-f128-d8add1884aaf"
      },
      "source": [
        "from google.colab import drive\n",
        "drive.mount('/content/gdrive')"
      ],
      "execution_count": 1,
      "outputs": [
        {
          "output_type": "stream",
          "name": "stdout",
          "text": [
            "Mounted at /content/gdrive\n"
          ]
        }
      ]
    },
    {
      "cell_type": "code",
      "metadata": {
        "id": "I0FQlVosIPQA"
      },
      "source": [
        "import os\n",
        "os.environ['KAGGLE_CONFIG_DIR'] = \"/content/gdrive/My Drive/ML_Task\""
      ],
      "execution_count": 2,
      "outputs": []
    },
    {
      "cell_type": "code",
      "metadata": {
        "colab": {
          "base_uri": "https://localhost:8080/"
        },
        "id": "45jVLEamIPHn",
        "outputId": "afc11200-b2a3-488f-a3cb-ba144c9ce276"
      },
      "source": [
        "%cd /content/gdrive/My Drive/ML_Task"
      ],
      "execution_count": 3,
      "outputs": [
        {
          "output_type": "stream",
          "name": "stdout",
          "text": [
            "/content/gdrive/My Drive/ML_Task\n"
          ]
        }
      ]
    },
    {
      "cell_type": "code",
      "metadata": {
        "id": "JE9IADTjIO_i"
      },
      "source": [
        "import os\n",
        "import time\n",
        "from tqdm.notebook import tqdm\n",
        "import warnings\n",
        "warnings.filterwarnings('ignore')\n",
        "# For array manipulation\n",
        "import numpy as np\n",
        "import pandas as pd\n",
        "import pandas.util.testing as tm\n",
        "# For visualization\n",
        "import matplotlib.pyplot as plt\n",
        "import matplotlib.ticker as ticker\n",
        "import seaborn as sns\n",
        "import cv2\n",
        "import imageio as io\n",
        "from pylab import *\n",
        "from sklearn.manifold import TSNE\n",
        "#For model performance\n",
        "from sklearn.metrics import pairwise_distances\n",
        "from sklearn.metrics.pairwise import cosine_similarity\n",
        "from sklearn.externals import joblib\n",
        "#For model training\n",
        "from sklearn.model_selection import train_test_split\n",
        "from sklearn.cluster import KMeans\n",
        "import tensorflow as tf\n",
        "from sklearn.neighbors import KNeighborsClassifier\n",
        "from tensorflow.keras.models import Sequential\n",
        "from keras.applications.vgg16 import preprocess_input\n",
        "from tensorflow.keras.layers import Conv2D, Activation, MaxPooling2D, UpSampling2D\n",
        "from tensorflow.keras.optimizers import Adam, Adagrad, RMSprop\n",
        "from tensorflow.keras.callbacks import EarlyStopping, ModelCheckpoint\n",
        "from keras import backend as K\n",
        "from keras.models import load_model\n",
        "from keras.preprocessing import image\n",
        "import imageio as io"
      ],
      "execution_count": 4,
      "outputs": []
    },
    {
      "cell_type": "code",
      "metadata": {
        "id": "lSUzdoYSIO0X"
      },
      "source": [
        "def plot_(x,row,col,ind,title):\n",
        "    plt.subplot(row,col,ind)\n",
        "    plt.imshow(x)\n",
        "    plt.title(title)\n",
        "    plt.axis('off')"
      ],
      "execution_count": 5,
      "outputs": []
    },
    {
      "cell_type": "code",
      "metadata": {
        "id": "b8mYgeF8IOmz"
      },
      "source": [
        "def results_(query,result):\n",
        "    def read(label):\n",
        "        img = io.imread(label)\n",
        "        image = cv2.cvtColor(image,cv2.COLOR_BGR2RGB)\n",
        "        return image\n",
        "    plt.figure(figsize=(10,5))\n",
        "    if type(query)!=type(30):\n",
        "        plot_(query,1,1,1,\"Query Image\")\n",
        "    else:\n",
        "        plot_(read(files[query]),1,1,1,\"Query Image \"+files[query])\n",
        "    plt.show()\n",
        "    plt.figure(figsize=(20,5)) \n",
        "    for iter,i in enumerate(result):\n",
        "        plot_(read(files[i]),1,len(result),iter+1,files[i])\n",
        "    plt.show()"
      ],
      "execution_count": 6,
      "outputs": []
    },
    {
      "cell_type": "code",
      "metadata": {
        "id": "xnLzFI7PICAD"
      },
      "source": [
        "def predictions(label,N=10,isurl=False):\n",
        "    start_time = time.time()\n",
        "    if isurl:\n",
        "        img = io.imread(label)\n",
        "        img = cv2.resize(img,(224,224))\n",
        "    else:\n",
        "        img = label\n",
        "    img_data = image.img_to_array(img)\n",
        "    img_data = np.expand_dims(img_data,axis=0)\n",
        "    img_data = preprocess_input(img_data)\n",
        "    feature = K.function([model.layers[0].input],[model.layers[12].output])\n",
        "    feature = np.array(feature).flatten().reshape(1,-1)\n",
        "    res = knn.kneighbors(feature.reshape(1,-1),return_distance=True,n_neighbors=N)\n",
        "    results_(img,list(res[1][0])[1:])\n",
        "    print(\"Time taken : \",np.round(time.time()-start_time,2),\" sec\")"
      ],
      "execution_count": 7,
      "outputs": []
    },
    {
      "cell_type": "code",
      "metadata": {
        "id": "sjgoJUV2IoxP"
      },
      "source": [
        "# files = np.load('/content/drive/My Drive/files.npy')\n",
        "optimizer = Adam(learning_rate=0.0005)\n",
        "knn = joblib.load('knn_model.pkl')\n",
        "kmeans = joblib.load('kmeans_model.pkl')\n",
        "model = load_model('encoder_model.h5') \n",
        "model.compile(optimizer=optimizer, loss='mse')"
      ],
      "execution_count": 13,
      "outputs": []
    },
    {
      "cell_type": "code",
      "metadata": {
        "id": "3VcMeZd8Mwfw"
      },
      "source": [
        "query_path = 'http://tak-apps-dev.s3.amazonaws.com/recruitment/machine-learning/dataset/DSC_0025_4.JPG'\n",
        "predictions(query_path,10,isurl=True)"
      ],
      "execution_count": 18,
      "outputs": []
    },
    {
      "cell_type": "code",
      "metadata": {
        "id": "y_rW97fmPymM"
      },
      "source": [
        ""
      ],
      "execution_count": null,
      "outputs": []
    }
  ]
}